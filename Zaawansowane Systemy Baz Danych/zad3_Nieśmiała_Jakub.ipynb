{
 "cells": [
  {
   "cell_type": "code",
   "execution_count": 1,
   "id": "cfc40978-c4b2-4425-9028-ebbdfdc1800a",
   "metadata": {},
   "outputs": [],
   "source": [
    "import matplotlib.pyplot as plt\n",
    "import seaborn as sns\n",
    "import pandas as pd\n",
    "import numpy as np\n",
    "import pickle"
   ]
  },
  {
   "cell_type": "code",
   "execution_count": 6,
   "id": "77c73a04-1c04-4650-994b-0fbbc34b73d0",
   "metadata": {},
   "outputs": [],
   "source": [
    "from sqlalchemy import create_engine\n",
    "import cx_Oracle\n",
    "lib_dir = r\"C:\\Users\\jakub\\Desktop\\instantclient_21_13\"\n",
    "cx_Oracle.init_oracle_client(lib_dir=lib_dir)\n",
    "\n",
    "\n",
    "# niezbedny downgrade sqlalchemy\n",
    "#!pip install --force-reinstall sqlalchemy==1.4.40\n",
    "#!pip install --force-reinstall pymysql==1.0.2\n",
    "\n",
    "lib_dir = r\"C:\\Users\\jakub\\Desktop\\instantclient_21_13\"\n",
    "#cx_Oracle.init_oracle_client(lib_dir=lib_dir)\n",
    "#print(cx_Oracle.__version__)\n",
    "\n",
    "oracle_pass = 's101374'\n",
    "oracle_engine = create_engine(\"oracle+cx_oracle://s101374:\"+oracle_pass+\"@\"+\"217.173.198.135:1521/?service_name=tpdb&encoding=UTF-8\")"
   ]
  },
  {
   "cell_type": "code",
   "execution_count": 7,
   "id": "143cc483-a0cb-407d-b518-114f75de394c",
   "metadata": {},
   "outputs": [],
   "source": [
    "#!pip install redis\n",
    "import redis\n",
    "\n",
    "\n",
    "#r = redis.Redis(host='127.0.0.1', port=6379, db=0)\n",
    "r = redis.Redis(host='localhost', port=6379)"
   ]
  },
  {
   "cell_type": "code",
   "execution_count": 10,
   "id": "7906ed4b-ed88-481a-ab15-eba9ef95b309",
   "metadata": {},
   "outputs": [],
   "source": [
    "#r.get_connection_kwargs()"
   ]
  },
  {
   "cell_type": "code",
   "execution_count": 9,
   "id": "549d20be-1bee-4e21-a4e7-3e35aba5efa8",
   "metadata": {},
   "outputs": [],
   "source": [
    "#!pip install --force-reinstall sqlalchemy==1.4"
   ]
  },
  {
   "cell_type": "code",
   "execution_count": 8,
   "id": "db89b460-38d1-4711-ab2b-2794eb403ae7",
   "metadata": {},
   "outputs": [],
   "source": [
    "#uslugi obslugiwane przez danego pracownika\n",
    "\n",
    "def read_from_database1(imie, nazwisko):\n",
    "    querry=f\"select * from usluga where id_pracownik=(select id_pracownik from pracownik where imie='{imie}' and nazwisko='{nazwisko}')\"\n",
    "    #print(querry)\n",
    "    record = oracle_engine.execute(querry).fetchone()\n",
    "    return record\n",
    "\n",
    "#%time \n",
    "#record1 = read_from_database1(\"Aleksy\", \"Czerwiński\")\n",
    "#record1"
   ]
  },
  {
   "cell_type": "code",
   "execution_count": 9,
   "id": "92861a64-1d98-48fe-a8ce-ce32f761ee01",
   "metadata": {},
   "outputs": [],
   "source": [
    "CACHE_DURATION_SEC = 3600\n",
    "\n",
    "def read_from_cache1(imie, nazwisko):\n",
    "    data = r.get(imie+\":\"+nazwisko)\n",
    "    if data:\n",
    "        data = pickle.loads(data)\n",
    "    return data\n",
    "\n",
    "def write_to_cache1(imie, nazwisko, data):\n",
    "    data = pickle.dumps(data)\n",
    "    r.set(imie+\":\"+nazwisko, data, ex=CACHE_DURATION_SEC)"
   ]
  },
  {
   "cell_type": "code",
   "execution_count": 10,
   "id": "9d5cc031-c587-4d64-a8e3-5cddcb7bfbe4",
   "metadata": {},
   "outputs": [],
   "source": [
    "# uslugi powiazane z dana firma\n",
    "def read_from_database2(nazwa_firmy):\n",
    "    querry=f\"select * from usluga where id_klient=(select id_klient from klient where id_firma=(select id_firma from firma where nazwa_firmy='{nazwa_firmy}')FETCH FIRST ROW ONLY)\"\n",
    "    #print(querry)\n",
    "    record = oracle_engine.execute(querry).fetchone()\n",
    "    return record\n",
    "\n",
    "#%time \n",
    "#record2 = read_from_database2(\"Elektomaks\")\n",
    "#record2"
   ]
  },
  {
   "cell_type": "code",
   "execution_count": 11,
   "id": "b5e9db7e-bda8-4b28-bace-e592b8226b4b",
   "metadata": {},
   "outputs": [],
   "source": [
    "def read_from_cache2(nazwa_firmy):\n",
    "    data = r.get(nazwa_firmy)\n",
    "    if data:\n",
    "        data = pickle.loads(data)\n",
    "    return data\n",
    "\n",
    "def write_to_cache2(nazwa_firmy, data):\n",
    "    data = pickle.dumps(data)\n",
    "    r.set(nazwa_firmy, data, ex=CACHE_DURATION_SEC)"
   ]
  },
  {
   "cell_type": "code",
   "execution_count": 12,
   "id": "ff2d5829-2cd2-40d8-96a6-39defd3ba0fd",
   "metadata": {},
   "outputs": [],
   "source": [
    "#cena podzespolu o podanych informacjach\n",
    "\n",
    "def read_from_database3(nazwa_podzespolu):\n",
    "    querry=f\"select cena_brutto_podzespolu from egzemplarz where id_podzespol=(select id_podzespol from podzespol where nazwa_podzespolu='{nazwa_podzespolu}'FETCH FIRST ROW ONLY)\"\n",
    "    #print(querry)\n",
    "    record = oracle_engine.execute(querry).fetchone()\n",
    "    return record\n",
    "\n",
    "#%time \n",
    "record3 = read_from_database3(\"Core i7\")\n",
    "#print(record3)\n"
   ]
  },
  {
   "cell_type": "code",
   "execution_count": 13,
   "id": "e2a98bbb-d09e-4ffc-a00c-35dd61a9b942",
   "metadata": {},
   "outputs": [],
   "source": [
    "def read_from_cache3(nazwa_podzespolu):\n",
    "    data = r.get(nazwa_podzespolu)\n",
    "    if data:\n",
    "        data = pickle.loads(data)\n",
    "    return data\n",
    "\n",
    "def write_to_cache3(nazwa_podzespolu, data):\n",
    "    data = pickle.dumps(data)\n",
    "    r.set(nazwa_podzespolu, data, ex=CACHE_DURATION_SEC)"
   ]
  },
  {
   "cell_type": "code",
   "execution_count": null,
   "id": "82a61d3a-e507-468e-9c3e-8839104535fa",
   "metadata": {},
   "outputs": [],
   "source": [
    "#AAAAAAAAAAAAAAAAAAAAAAAAAAAAAAAAAAAAAAAAAAAAAAAAAAAAAAAAAAAAAAAAAAAAAAAAAAAAAAAAAAAAAAAAAAAAAAAAAAAAAAAAA"
   ]
  },
  {
   "cell_type": "code",
   "execution_count": 15,
   "id": "ae9e35d1-23e5-440d-82af-9f96ef01f744",
   "metadata": {},
   "outputs": [
    {
     "name": "stdout",
     "output_type": "stream",
     "text": [
      "('SQL DATABASE', (6, '1', '0', 'komputer04', None, 'POMOCYYYY', datetime.datetime(2020, 4, 4, 0, 0), None, Decimal('440'), 3, 15))\n",
      "CPU times: total: 0 ns\n",
      "Wall time: 445 ms\n"
     ]
    }
   ],
   "source": [
    "def get_record1(imie, nazwisko):\n",
    "\n",
    "    info = \"CACHE\"\n",
    "    record = read_from_cache1(imie, nazwisko)\n",
    "    \n",
    "    if not record:\n",
    "        info = \"SQL DATABASE\"\n",
    "        record = read_from_database1(imie, nazwisko)\n",
    "        write_to_cache1(imie, nazwisko, record)    \n",
    "        \n",
    "    return (info, record)\n",
    "\n",
    "%time print(get_record1(\"Aleksy\", \"Czerwiński\"))"
   ]
  },
  {
   "cell_type": "code",
   "execution_count": 16,
   "id": "c1199e6d-522b-4aca-90fd-25dc08b8b805",
   "metadata": {},
   "outputs": [
    {
     "name": "stdout",
     "output_type": "stream",
     "text": [
      "('SQL DATABASE', (3, '1', '0', 'Laptop Intel', None, 'Przestalo dzialac... tak, samo', datetime.datetime(2005, 9, 3, 0, 0), None, Decimal('131'), 7, 11))\n",
      "CPU times: total: 0 ns\n",
      "Wall time: 472 ms\n"
     ]
    }
   ],
   "source": [
    "def get_record2(nazwa_firmy):\n",
    "\n",
    "    info = \"CACHE\"\n",
    "    record = read_from_cache2(nazwa_firmy)\n",
    "    \n",
    "    if not record:\n",
    "        info = \"SQL DATABASE\"\n",
    "        record = read_from_database2(nazwa_firmy)\n",
    "        write_to_cache2(nazwa_firmy, record)    \n",
    "        \n",
    "    return (info, record)\n",
    "\n",
    "%time print(get_record2(\"Elektomaks\"))"
   ]
  },
  {
   "cell_type": "code",
   "execution_count": 17,
   "id": "7ae9c95f-bc38-4510-a8b7-ce822b5348a3",
   "metadata": {},
   "outputs": [
    {
     "name": "stdout",
     "output_type": "stream",
     "text": [
      "('SQL DATABASE', (Decimal('998.47'),))\n",
      "CPU times: total: 15.6 ms\n",
      "Wall time: 338 ms\n"
     ]
    }
   ],
   "source": [
    "def get_record3(nazwa_podzespolu):\n",
    "\n",
    "    info = \"CACHE\"\n",
    "    record = read_from_cache3(nazwa_podzespolu)\n",
    "    \n",
    "    if not record:\n",
    "        info = \"SQL DATABASE\"\n",
    "        record = read_from_database3(nazwa_podzespolu)\n",
    "        write_to_cache3(nazwa_podzespolu, record)    \n",
    "        \n",
    "    return (info, record)\n",
    "\n",
    "%time print(get_record3(\"Core i7\"))"
   ]
  },
  {
   "cell_type": "code",
   "execution_count": 18,
   "id": "16a5902c-1b63-4ddb-809e-937f5f3c0217",
   "metadata": {},
   "outputs": [
    {
     "name": "stdout",
     "output_type": "stream",
     "text": [
      "DRUGI RAZ TO SAMO - TYM RAZEM Z REDIS\n",
      "('CACHE', (6, '1', '0', 'komputer04', None, 'POMOCYYYY', datetime.datetime(2020, 4, 4, 0, 0), None, Decimal('440'), 3, 15))\n",
      "CPU times: total: 0 ns\n",
      "Wall time: 3.02 ms\n",
      "('CACHE', (3, '1', '0', 'Laptop Intel', None, 'Przestalo dzialac... tak, samo', datetime.datetime(2005, 9, 3, 0, 0), None, Decimal('131'), 7, 11))\n",
      "CPU times: total: 0 ns\n",
      "Wall time: 2.15 ms\n",
      "('CACHE', (Decimal('998.47'),))\n",
      "CPU times: total: 0 ns\n",
      "Wall time: 2.06 ms\n"
     ]
    }
   ],
   "source": [
    "print(\"DRUGI RAZ TO SAMO - TYM RAZEM Z REDIS\")\n",
    "\n",
    "%time print(get_record1(\"Aleksy\", \"Czerwiński\"))\n",
    "%time print(get_record2(\"Elektomaks\"))\n",
    "%time print(get_record3(\"Core i7\"))"
   ]
  },
  {
   "cell_type": "code",
   "execution_count": null,
   "id": "d2c8c21b-c6dc-46a4-9d56-e9e94762f8f5",
   "metadata": {},
   "outputs": [],
   "source": []
  },
  {
   "cell_type": "code",
   "execution_count": 16,
   "id": "5667ec3b-9ee7-490f-9f65-226f0b1848c9",
   "metadata": {},
   "outputs": [],
   "source": [
    "# Dane do polaczenia z paza danych Oracle\n",
    "#con = cx_Oracle.connect('s101374/'+'s101374'+'@217.173.198.135:1521/tpdb')"
   ]
  }
 ],
 "metadata": {
  "kernelspec": {
   "display_name": "Python 3 (ipykernel)",
   "language": "python",
   "name": "python3"
  },
  "language_info": {
   "codemirror_mode": {
    "name": "ipython",
    "version": 3
   },
   "file_extension": ".py",
   "mimetype": "text/x-python",
   "name": "python",
   "nbconvert_exporter": "python",
   "pygments_lexer": "ipython3",
   "version": "3.11.7"
  }
 },
 "nbformat": 4,
 "nbformat_minor": 5
}

{
 "cells": [
  {
   "cell_type": "code",
   "execution_count": 3,
   "id": "18f8e214-7f65-4198-ad2b-bdde57542c19",
   "metadata": {},
   "outputs": [
    {
     "name": "stdout",
     "output_type": "stream",
     "text": [
      "Dokładność Perceptronu: 0.9368421052631579\n",
      "Dokładność MLP: 0.9543859649122807\n",
      "F1-score Perceptronu: 0.9531250000000001\n",
      "F1-score MLP: 0.9655172413793103\n"
     ]
    },
    {
     "name": "stderr",
     "output_type": "stream",
     "text": [
      "C:\\Users\\jakub\\anaconda3\\Lib\\site-packages\\sklearn\\neural_network\\_multilayer_perceptron.py:686: ConvergenceWarning: Stochastic Optimizer: Maximum iterations (200) reached and the optimization hasn't converged yet.\n",
      "  warnings.warn(\n"
     ]
    }
   ],
   "source": [
    "#1\n",
    "from sklearn.datasets import load_breast_cancer\n",
    "from sklearn.model_selection import train_test_split\n",
    "from sklearn.linear_model import Perceptron\n",
    "from sklearn.neural_network import MLPClassifier\n",
    "from sklearn.metrics import accuracy_score, f1_score\n",
    "\n",
    "dataset = load_breast_cancer();\n",
    "X=dataset.data\n",
    "y=dataset.target\n",
    "\n",
    "X_train, X_test, y_train, y_test = train_test_split(X, y, test_size=0.5, random_state=42)\n",
    "\n",
    "perceptron=Perceptron();\n",
    "perceptron.fit(X_train, y_train)\n",
    "\n",
    "mlpclassifier = MLPClassifier(random_state=42)\n",
    "mlpclassifier.fit(X_train, y_train)\n",
    "\n",
    "y_pred_perceptron = perceptron.predict(X_test)\n",
    "y_pred_mlpc = mlpclassifier.predict(X_test)\n",
    "\n",
    "acc_perceptron = accuracy_score(y_test, y_pred_perceptron)\n",
    "acc_mlpc = accuracy_score(y_test, y_pred_mlpc)\n",
    "\n",
    "f1_perceptron = f1_score(y_test, y_pred_perceptron)\n",
    "f1_mlpc = f1_score(y_test, y_pred_mlpc)\n",
    "\n",
    "print(\"Dokładność Perceptronu:\", acc_perceptron)\n",
    "print(\"Dokładność MLP:\", acc_mlpc)\n",
    "\n",
    "print(\"F1-score Perceptronu:\", f1_perceptron)\n",
    "print(\"F1-score MLP:\", f1_mlpc)"
   ]
  },
  {
   "cell_type": "code",
   "execution_count": 10,
   "id": "96d109dc-bc0c-4364-8799-e3b3f55976d9",
   "metadata": {},
   "outputs": [
    {
     "name": "stdout",
     "output_type": "stream",
     "text": [
      "Model z 3 warstwami ukrytymi:\n",
      "Dokładność: 0.9578947368421052\n",
      "Precyzja: 0.9679144385026738\n",
      "Czułość: 0.9679144385026738\n",
      "Model z 5 warstwami ukrytymi:\n",
      "Dokładność: 0.9368421052631579\n",
      "Precyzja: 0.9567567567567568\n",
      "Czułość: 0.946524064171123\n"
     ]
    },
    {
     "name": "stderr",
     "output_type": "stream",
     "text": [
      "C:\\Users\\jakub\\anaconda3\\Lib\\site-packages\\sklearn\\neural_network\\_multilayer_perceptron.py:686: ConvergenceWarning: Stochastic Optimizer: Maximum iterations (200) reached and the optimization hasn't converged yet.\n",
      "  warnings.warn(\n"
     ]
    }
   ],
   "source": [
    "#2\n",
    "from sklearn.datasets import load_breast_cancer\n",
    "from sklearn.model_selection import train_test_split\n",
    "from sklearn.neural_network import MLPClassifier\n",
    "from sklearn.metrics import accuracy_score, precision_score, recall_score\n",
    "\n",
    "dataset = load_breast_cancer();\n",
    "X=dataset.data\n",
    "y=dataset.target\n",
    "\n",
    "X_train, X_test, y_train, y_test = train_test_split(X, y, test_size=0.5, random_state=42)\n",
    "\n",
    "#2.2\n",
    "s3=[30,30,30]\n",
    "mlpc_3 = MLPClassifier(hidden_layer_sizes=s3, random_state=42)\n",
    "mlpc_3.fit(X_train, y_train)\n",
    "y_pred_mlpc3 = mlpc_3.predict(X_test)\n",
    "\n",
    "acc_mlpc3 = accuracy_score(y_test, y_pred_mlpc3)\n",
    "prec_mlpc3 = precision_score(y_test, y_pred_mlpc3)\n",
    "recall_mlpc3 = recall_score(y_test, y_pred_mlpc3)\n",
    "print(\"Model z 3 warstwami ukrytymi:\")\n",
    "print(\"Dokładność:\", acc_mlpc3)\n",
    "print(\"Precyzja:\", prec_mlpc3)\n",
    "print(\"Czułość:\", recall_mlpc3)\n",
    "\n",
    "#2.3\n",
    "s5=[30,30,30,30,30]\n",
    "mlpc_5 = MLPClassifier(hidden_layer_sizes=s5, random_state=42)\n",
    "mlpc_5.fit(X_train, y_train)\n",
    "y_pred_mlpc5 = mlpc_5.predict(X_test)\n",
    "\n",
    "acc_mlpc5 = accuracy_score(y_test, y_pred_mlpc5)\n",
    "prec_mlpc5 = precision_score(y_test, y_pred_mlpc5)\n",
    "recall_mlpc5 = recall_score(y_test, y_pred_mlpc5)\n",
    "print(\"Model z 5 warstwami ukrytymi:\")\n",
    "print(\"Dokładność:\", acc_mlpc5)\n",
    "print(\"Precyzja:\", prec_mlpc5)\n",
    "print(\"Czułość:\", recall_mlpc5)\n"
   ]
  },
  {
   "cell_type": "code",
   "execution_count": 23,
   "id": "fc0cd0ab-9ede-4305-96ac-ce7034e9b3f0",
   "metadata": {},
   "outputs": [
    {
     "name": "stdout",
     "output_type": "stream",
     "text": [
      "Model z 3 warstwami ukrytymi:\n",
      "MSE: 0.60891278053735\n",
      "MAPE: 0.3345330813013927\n",
      "\n",
      "Model z 5 warstwami ukrytymi:\n",
      "MSE: 0.6415604154779747\n",
      "MAPE: 0.4465488974714926\n"
     ]
    }
   ],
   "source": [
    "#3\n",
    "from sklearn.datasets import fetch_california_housing\n",
    "from sklearn.model_selection import train_test_split\n",
    "from sklearn.neural_network import MLPRegressor\n",
    "from sklearn.metrics import mean_squared_error\n",
    "from sklearn.metrics import mean_absolute_percentage_error\n",
    "\n",
    "data=fetch_california_housing()\n",
    "X=data.data\n",
    "y=data.target\n",
    "\n",
    "X_train, X_test, y_train, y_test = train_test_split(X, y, train_size=0.5, random_state=42)\n",
    "\n",
    "mlpr3 = MLPRegressor(hidden_layer_sizes=(30,30,30), random_state=42)\n",
    "mlpr3.fit(X_train, y_train)\n",
    "y_predict_mlpr3=mlpr3.predict(X_test)\n",
    "\n",
    "mse_mlpr3 = mean_squared_error(y_test, y_predict_mlpr3)\n",
    "mape_mlpr3 = mean_absolute_percentage_error(y_test, y_predict_mlpr3)\n",
    "print(\"Model z 3 warstwami ukrytymi:\")\n",
    "print(\"MSE:\", mse_mlpr3)\n",
    "print(\"MAPE:\", mape_mlpr3)\n",
    "\n",
    "mlpr5 = MLPRegressor(hidden_layer_sizes=(30,30,30,30,30), random_state=42)\n",
    "mlpr5.fit(X_train, y_train)\n",
    "y_predict_mlpr5=mlpr5.predict(X_test)\n",
    "\n",
    "mse5 = mean_squared_error(y_test, y_predict_mlpr5)\n",
    "mape5 = mean_absolute_percentage_error(y_test, y_predict_mlpr5)\n",
    "print(\"\\nModel z 5 warstwami ukrytymi:\")\n",
    "print(\"MSE:\", mse5)\n",
    "print(\"MAPE:\", mape5)\n"
   ]
  },
  {
   "cell_type": "code",
   "execution_count": 31,
   "id": "f6ac44c7-366f-473e-ada3-21fc1b0296b9",
   "metadata": {},
   "outputs": [
    {
     "name": "stdout",
     "output_type": "stream",
     "text": [
      "Model z 3 warstwami ukrytymi:\n",
      "Średnie MSE (walidacja krzyżowa): 2.086687848842192\n",
      "Średnie MAPE (walidacja krzyżowa): 0.7362635591046888\n",
      "\n",
      "Najlepsza konfiguracja sieci: {'hidden_layer_sizes': (100, 100, 100, 100, 100)}\n",
      "Najlepszy model (walidacja krzyżowa):\n",
      "Średnie MSE: 0.6788773871491293\n",
      "Średnie MAPE: 0.350518211868484\n"
     ]
    }
   ],
   "source": [
    "import numpy as np\n",
    "from sklearn.datasets import fetch_california_housing\n",
    "from sklearn.model_selection import train_test_split, cross_val_score, GridSearchCV\n",
    "from sklearn.neural_network import MLPRegressor\n",
    "from sklearn.metrics import make_scorer, mean_squared_error, mean_absolute_percentage_error\n",
    "\n",
    "# Wczytanie danych\n",
    "data = fetch_california_housing()\n",
    "X = data.data\n",
    "y = data.target\n",
    "\n",
    "# Przygotowanie skorerów do oceny modeli\n",
    "mse_scorer = make_scorer(mean_squared_error, greater_is_better=False)\n",
    "mape_scorer = make_scorer(mean_absolute_percentage_error, greater_is_better=False)\n",
    "\n",
    "# Model z 3 warstwami ukrytymi, walidacja krzyżowa z 3 przejściami\n",
    "mlp_3_layers = MLPRegressor(hidden_layer_sizes=(100, 100, 100), random_state=42)\n",
    "mse_scores = cross_val_score(mlp_3_layers, X, y, cv=3, scoring=mse_scorer)\n",
    "mape_scores = cross_val_score(mlp_3_layers, X, y, cv=3, scoring=mape_scorer)\n",
    "\n",
    "print(\"Model z 3 warstwami ukrytymi:\")\n",
    "print(\"Średnie MSE (walidacja krzyżowa):\", -np.mean(mse_scores))\n",
    "print(\"Średnie MAPE (walidacja krzyżowa):\", -np.mean(mape_scores))\n",
    "\n",
    "# Wyznaczanie optymalnej konfiguracji sieci\n",
    "param_grid = {\n",
    "    'hidden_layer_sizes': [\n",
    "        (25,), (50,), (75,), (100,), (200,),\n",
    "        (25, 25), (50, 50), (75, 75), (100, 100), (200, 200),\n",
    "        (25, 25, 25), (50, 50, 50), (75, 75, 75), (100, 100, 100), (200, 200, 200),\n",
    "        (25, 25, 25, 25), (50, 50, 50, 50), (75, 75, 75, 75), (100, 100, 100, 100), (200, 200, 200, 200),\n",
    "        (25, 25, 25, 25, 25), (50, 50, 50, 50, 50), (75, 75, 75, 75, 75), (100, 100, 100, 100, 100), (200, 200, 200, 200, 200)\n",
    "    ]\n",
    "}\n",
    "\n",
    "# GridSearchCV do znalezienia najlepszej konfiguracji\n",
    "grid_search = GridSearchCV(MLPRegressor(random_state=42), param_grid, cv=3, scoring=mse_scorer, n_jobs=-1)\n",
    "grid_search.fit(X, y)\n",
    "\n",
    "# Najlepsza konfiguracja\n",
    "best_model = grid_search.best_estimator_\n",
    "best_params = grid_search.best_params_\n",
    "print(\"\\nNajlepsza konfiguracja sieci:\", best_params)\n",
    "\n",
    "# Ocena najlepszego modelu\n",
    "best_mse_scores = cross_val_score(best_model, X, y, cv=3, scoring=mse_scorer)\n",
    "best_mape_scores = cross_val_score(best_model, X, y, cv=3, scoring=mape_scorer)\n",
    "\n",
    "print(\"Najlepszy model (walidacja krzyżowa):\")\n",
    "print(\"Średnie MSE:\", -np.mean(best_mse_scores))\n",
    "print(\"Średnie MAPE:\", -np.mean(best_mape_scores))\n"
   ]
  },
  {
   "cell_type": "code",
   "execution_count": null,
   "id": "6e537894-af21-4b53-8248-e3bfccfd9bf9",
   "metadata": {},
   "outputs": [],
   "source": []
  },
  {
   "cell_type": "code",
   "execution_count": null,
   "id": "b8950b21-4e5a-4e93-b191-2a2edb914150",
   "metadata": {},
   "outputs": [],
   "source": []
  }
 ],
 "metadata": {
  "kernelspec": {
   "display_name": "Python 3 (ipykernel)",
   "language": "python",
   "name": "python3"
  },
  "language_info": {
   "codemirror_mode": {
    "name": "ipython",
    "version": 3
   },
   "file_extension": ".py",
   "mimetype": "text/x-python",
   "name": "python",
   "nbconvert_exporter": "python",
   "pygments_lexer": "ipython3",
   "version": "3.11.7"
  }
 },
 "nbformat": 4,
 "nbformat_minor": 5
}

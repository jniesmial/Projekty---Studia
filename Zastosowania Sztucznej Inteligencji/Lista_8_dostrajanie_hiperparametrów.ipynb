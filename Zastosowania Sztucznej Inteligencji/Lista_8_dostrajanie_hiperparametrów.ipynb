{
 "cells": [
  {
   "cell_type": "code",
   "execution_count": 1,
   "id": "fd138a9d-b5e1-47b3-82ba-ebed064b866d",
   "metadata": {},
   "outputs": [],
   "source": [
    "import torch\n",
    "import numpy as np\n",
    "import matplotlib.pyplot as plt\n",
    "from sklearn.datasets import fetch_california_housing\n",
    "from sklearn.model_selection import train_test_split\n",
    "from sklearn.preprocessing import StandardScaler\n",
    "from torchmetrics import MeanAbsolutePercentageError\n",
    "import torch.nn as nn\n",
    "import torch.optim as optim\n",
    "import tqdm"
   ]
  },
  {
   "cell_type": "code",
   "execution_count": 4,
   "id": "c5b292d9-01fe-4e35-8acc-d80b8039452b",
   "metadata": {},
   "outputs": [],
   "source": [
    "# Pobieranie i dzielenie danych\n",
    "dataset = fetch_california_housing()\n",
    "X_train, X_test, y_train, y_test = train_test_split(dataset.data, dataset.target, test_size=0.2, random_state=123)\n",
    "\n",
    "# Standaryzacja danych\n",
    "scaler = StandardScaler()\n",
    "scaler.fit(X_train)\n",
    "X_train = scaler.transform(X_train)\n",
    "X_test = scaler.transform(X_test)\n",
    "\n",
    "# Konwersja danych do tensorów PyTorch\n",
    "X_train = torch.tensor(X_train, dtype=torch.float32)\n",
    "y_train = torch.tensor(y_train, dtype=torch.float32).reshape(-1, 1)\n",
    "X_test = torch.tensor(X_test, dtype=torch.float32)\n",
    "y_test = torch.tensor(y_test, dtype=torch.float32).reshape(-1, 1)"
   ]
  },
  {
   "cell_type": "code",
   "execution_count": 5,
   "id": "57cbdd5b-d70b-4d40-84c3-52b36e47a14c",
   "metadata": {},
   "outputs": [],
   "source": [
    "# Funkcja do trenowania modelu\n",
    "def train_model(layers, activations, dropout_rate, epochs, learning_rate):\n",
    "    model_layers = []\n",
    "    input_dim = 8\n",
    "\n",
    "    for layer_size, activation in zip(layers, activations):\n",
    "        model_layers.append(nn.Linear(input_dim, layer_size))\n",
    "        if activation == \"relu\":\n",
    "            model_layers.append(nn.ReLU())\n",
    "        elif activation == \"leakyrelu\":\n",
    "            model_layers.append(nn.LeakyReLU())\n",
    "        elif activation == \"tanh\":\n",
    "            model_layers.append(nn.Tanh())\n",
    "        if dropout_rate > 0:\n",
    "            model_layers.append(nn.Dropout(dropout_rate))\n",
    "        input_dim = layer_size\n",
    "\n",
    "    model_layers.append(nn.Linear(input_dim, 1))\n",
    "    model = nn.Sequential(*model_layers)\n",
    "\n",
    "    loss_fn = nn.MSELoss()\n",
    "    optimizer = optim.AdamW(model.parameters(), lr=learning_rate)\n",
    "    mape = MeanAbsolutePercentageError()\n",
    "\n",
    "    loss_list = np.zeros((epochs,))\n",
    "    mse_list = np.zeros((epochs,))\n",
    "    mape_list = np.zeros((epochs,))\n",
    "\n",
    "    for epoch in tqdm.trange(epochs):\n",
    "        model.train()\n",
    "        y_pred = model(X_train)\n",
    "        loss = loss_fn(y_pred, y_train)\n",
    "        loss_list[epoch] = loss.item()\n",
    "        \n",
    "        optimizer.zero_grad()\n",
    "        loss.backward()\n",
    "        optimizer.step()\n",
    "        \n",
    "        model.eval()\n",
    "        with torch.no_grad():\n",
    "            y_pred = model(X_test)\n",
    "            mse_list[epoch] = loss_fn(y_pred, y_test).item()\n",
    "            mape_list[epoch] = mape(y_pred, y_test).item()\n",
    "\n",
    "    return min(mape_list), model"
   ]
  },
  {
   "cell_type": "code",
   "execution_count": 7,
   "id": "fe6255da-bfcc-4177-867e-c0dd7c97de99",
   "metadata": {},
   "outputs": [],
   "source": [
    "# Definiowanie hiperparametrów do przetestowania\n",
    "layer_configs = [\n",
    "    [128, 128, 64, 32],\n",
    "    [256, 128, 64],\n",
    "    [128, 64, 32],\n",
    "]\n",
    "\n",
    "activation_configs = [\n",
    "    [\"relu\", \"relu\", \"relu\", \"relu\"],\n",
    "    [\"leakyrelu\", \"leakyrelu\", \"leakyrelu\", \"leakyrelu\"],\n",
    "    [\"tanh\", \"tanh\", \"tanh\", \"tanh\"],\n",
    "]\n",
    "\n",
    "dropout_rates = [0.2, 0.3, 0.4]\n",
    "epoch_numbers = [1000, 2000]\n",
    "learning_rates = [0.0001, 0.0005]"
   ]
  },
  {
   "cell_type": "code",
   "execution_count": 8,
   "id": "ea7393d9-4165-4490-8138-021c0d2cb3da",
   "metadata": {},
   "outputs": [
    {
     "name": "stdout",
     "output_type": "stream",
     "text": [
      "Training with layers=[128, 128, 64, 32], activations=['relu', 'relu', 'relu', 'relu'], dropout=0.2, epochs=1000, lr=0.0001\n"
     ]
    },
    {
     "name": "stderr",
     "output_type": "stream",
     "text": [
      "100%|██████████| 1000/1000 [00:37<00:00, 26.71it/s]\n"
     ]
    },
    {
     "name": "stdout",
     "output_type": "stream",
     "text": [
      "MAPE: 0.22528579831123352\n",
      "Training with layers=[128, 128, 64, 32], activations=['relu', 'relu', 'relu', 'relu'], dropout=0.2, epochs=1000, lr=0.0005\n"
     ]
    },
    {
     "name": "stderr",
     "output_type": "stream",
     "text": [
      "100%|██████████| 1000/1000 [00:39<00:00, 25.64it/s]\n"
     ]
    },
    {
     "name": "stdout",
     "output_type": "stream",
     "text": [
      "MAPE: 0.18629492819309235\n",
      "Training with layers=[128, 128, 64, 32], activations=['relu', 'relu', 'relu', 'relu'], dropout=0.2, epochs=2000, lr=0.0001\n"
     ]
    },
    {
     "name": "stderr",
     "output_type": "stream",
     "text": [
      "100%|██████████| 2000/2000 [01:16<00:00, 26.17it/s]\n"
     ]
    },
    {
     "name": "stdout",
     "output_type": "stream",
     "text": [
      "MAPE: 0.20361414551734924\n",
      "Training with layers=[128, 128, 64, 32], activations=['relu', 'relu', 'relu', 'relu'], dropout=0.2, epochs=2000, lr=0.0005\n"
     ]
    },
    {
     "name": "stderr",
     "output_type": "stream",
     "text": [
      "100%|██████████| 2000/2000 [01:18<00:00, 25.51it/s]\n"
     ]
    },
    {
     "name": "stdout",
     "output_type": "stream",
     "text": [
      "MAPE: 0.17643897235393524\n",
      "Training with layers=[128, 128, 64, 32], activations=['relu', 'relu', 'relu', 'relu'], dropout=0.3, epochs=1000, lr=0.0001\n"
     ]
    },
    {
     "name": "stderr",
     "output_type": "stream",
     "text": [
      "100%|██████████| 1000/1000 [00:38<00:00, 25.88it/s]\n"
     ]
    },
    {
     "name": "stdout",
     "output_type": "stream",
     "text": [
      "MAPE: 0.2302909642457962\n",
      "Training with layers=[128, 128, 64, 32], activations=['relu', 'relu', 'relu', 'relu'], dropout=0.3, epochs=1000, lr=0.0005\n"
     ]
    },
    {
     "name": "stderr",
     "output_type": "stream",
     "text": [
      "100%|██████████| 1000/1000 [00:41<00:00, 24.28it/s]\n"
     ]
    },
    {
     "name": "stdout",
     "output_type": "stream",
     "text": [
      "MAPE: 0.19046570360660553\n",
      "Training with layers=[128, 128, 64, 32], activations=['relu', 'relu', 'relu', 'relu'], dropout=0.3, epochs=2000, lr=0.0001\n"
     ]
    },
    {
     "name": "stderr",
     "output_type": "stream",
     "text": [
      "100%|██████████| 2000/2000 [01:18<00:00, 25.49it/s]\n"
     ]
    },
    {
     "name": "stdout",
     "output_type": "stream",
     "text": [
      "MAPE: 0.21182091534137726\n",
      "Training with layers=[128, 128, 64, 32], activations=['relu', 'relu', 'relu', 'relu'], dropout=0.3, epochs=2000, lr=0.0005\n"
     ]
    },
    {
     "name": "stderr",
     "output_type": "stream",
     "text": [
      "100%|██████████| 2000/2000 [01:19<00:00, 25.11it/s]\n"
     ]
    },
    {
     "name": "stdout",
     "output_type": "stream",
     "text": [
      "MAPE: 0.18048658967018127\n",
      "Training with layers=[128, 128, 64, 32], activations=['relu', 'relu', 'relu', 'relu'], dropout=0.4, epochs=1000, lr=0.0001\n"
     ]
    },
    {
     "name": "stderr",
     "output_type": "stream",
     "text": [
      "100%|██████████| 1000/1000 [00:39<00:00, 25.41it/s]\n"
     ]
    },
    {
     "name": "stdout",
     "output_type": "stream",
     "text": [
      "MAPE: 0.2352757751941681\n",
      "Training with layers=[128, 128, 64, 32], activations=['relu', 'relu', 'relu', 'relu'], dropout=0.4, epochs=1000, lr=0.0005\n"
     ]
    },
    {
     "name": "stderr",
     "output_type": "stream",
     "text": [
      "100%|██████████| 1000/1000 [00:41<00:00, 23.85it/s]\n"
     ]
    },
    {
     "name": "stdout",
     "output_type": "stream",
     "text": [
      "MAPE: 0.21143071353435516\n",
      "Training with layers=[128, 128, 64, 32], activations=['relu', 'relu', 'relu', 'relu'], dropout=0.4, epochs=2000, lr=0.0001\n"
     ]
    },
    {
     "name": "stderr",
     "output_type": "stream",
     "text": [
      "100%|██████████| 2000/2000 [01:20<00:00, 24.85it/s]\n"
     ]
    },
    {
     "name": "stdout",
     "output_type": "stream",
     "text": [
      "MAPE: 0.22449786961078644\n",
      "Training with layers=[128, 128, 64, 32], activations=['relu', 'relu', 'relu', 'relu'], dropout=0.4, epochs=2000, lr=0.0005\n"
     ]
    },
    {
     "name": "stderr",
     "output_type": "stream",
     "text": [
      "100%|██████████| 2000/2000 [01:19<00:00, 25.02it/s]\n"
     ]
    },
    {
     "name": "stdout",
     "output_type": "stream",
     "text": [
      "MAPE: 0.1935579776763916\n",
      "Training with layers=[128, 128, 64, 32], activations=['leakyrelu', 'leakyrelu', 'leakyrelu', 'leakyrelu'], dropout=0.2, epochs=1000, lr=0.0001\n"
     ]
    },
    {
     "name": "stderr",
     "output_type": "stream",
     "text": [
      "100%|██████████| 1000/1000 [00:45<00:00, 21.96it/s]\n"
     ]
    },
    {
     "name": "stdout",
     "output_type": "stream",
     "text": [
      "MAPE: 0.23047490417957306\n",
      "Training with layers=[128, 128, 64, 32], activations=['leakyrelu', 'leakyrelu', 'leakyrelu', 'leakyrelu'], dropout=0.2, epochs=1000, lr=0.0005\n"
     ]
    },
    {
     "name": "stderr",
     "output_type": "stream",
     "text": [
      "100%|██████████| 1000/1000 [00:46<00:00, 21.33it/s]\n"
     ]
    },
    {
     "name": "stdout",
     "output_type": "stream",
     "text": [
      "MAPE: 0.18661579489707947\n",
      "Training with layers=[128, 128, 64, 32], activations=['leakyrelu', 'leakyrelu', 'leakyrelu', 'leakyrelu'], dropout=0.2, epochs=2000, lr=0.0001\n"
     ]
    },
    {
     "name": "stderr",
     "output_type": "stream",
     "text": [
      "100%|██████████| 2000/2000 [01:34<00:00, 21.27it/s]\n"
     ]
    },
    {
     "name": "stdout",
     "output_type": "stream",
     "text": [
      "MAPE: 0.2050265371799469\n",
      "Training with layers=[128, 128, 64, 32], activations=['leakyrelu', 'leakyrelu', 'leakyrelu', 'leakyrelu'], dropout=0.2, epochs=2000, lr=0.0005\n"
     ]
    },
    {
     "name": "stderr",
     "output_type": "stream",
     "text": [
      "100%|██████████| 2000/2000 [01:37<00:00, 20.58it/s]\n"
     ]
    },
    {
     "name": "stdout",
     "output_type": "stream",
     "text": [
      "MAPE: 0.17810098826885223\n",
      "Training with layers=[128, 128, 64, 32], activations=['leakyrelu', 'leakyrelu', 'leakyrelu', 'leakyrelu'], dropout=0.3, epochs=1000, lr=0.0001\n"
     ]
    },
    {
     "name": "stderr",
     "output_type": "stream",
     "text": [
      "100%|██████████| 1000/1000 [00:45<00:00, 21.90it/s]\n"
     ]
    },
    {
     "name": "stdout",
     "output_type": "stream",
     "text": [
      "MAPE: 0.23290736973285675\n",
      "Training with layers=[128, 128, 64, 32], activations=['leakyrelu', 'leakyrelu', 'leakyrelu', 'leakyrelu'], dropout=0.3, epochs=1000, lr=0.0005\n"
     ]
    },
    {
     "name": "stderr",
     "output_type": "stream",
     "text": [
      "100%|██████████| 1000/1000 [00:46<00:00, 21.56it/s]\n"
     ]
    },
    {
     "name": "stdout",
     "output_type": "stream",
     "text": [
      "MAPE: 0.1921423077583313\n",
      "Training with layers=[128, 128, 64, 32], activations=['leakyrelu', 'leakyrelu', 'leakyrelu', 'leakyrelu'], dropout=0.3, epochs=2000, lr=0.0001\n"
     ]
    },
    {
     "name": "stderr",
     "output_type": "stream",
     "text": [
      "100%|██████████| 2000/2000 [01:31<00:00, 21.92it/s]\n"
     ]
    },
    {
     "name": "stdout",
     "output_type": "stream",
     "text": [
      "MAPE: 0.2095271497964859\n",
      "Training with layers=[128, 128, 64, 32], activations=['leakyrelu', 'leakyrelu', 'leakyrelu', 'leakyrelu'], dropout=0.3, epochs=2000, lr=0.0005\n"
     ]
    },
    {
     "name": "stderr",
     "output_type": "stream",
     "text": [
      "100%|██████████| 2000/2000 [01:33<00:00, 21.42it/s]\n"
     ]
    },
    {
     "name": "stdout",
     "output_type": "stream",
     "text": [
      "MAPE: 0.18504635989665985\n",
      "Training with layers=[128, 128, 64, 32], activations=['leakyrelu', 'leakyrelu', 'leakyrelu', 'leakyrelu'], dropout=0.4, epochs=1000, lr=0.0001\n"
     ]
    },
    {
     "name": "stderr",
     "output_type": "stream",
     "text": [
      "100%|██████████| 1000/1000 [00:45<00:00, 21.80it/s]\n"
     ]
    },
    {
     "name": "stdout",
     "output_type": "stream",
     "text": [
      "MAPE: 0.23175309598445892\n",
      "Training with layers=[128, 128, 64, 32], activations=['leakyrelu', 'leakyrelu', 'leakyrelu', 'leakyrelu'], dropout=0.4, epochs=1000, lr=0.0005\n"
     ]
    },
    {
     "name": "stderr",
     "output_type": "stream",
     "text": [
      "100%|██████████| 1000/1000 [00:46<00:00, 21.34it/s]\n"
     ]
    },
    {
     "name": "stdout",
     "output_type": "stream",
     "text": [
      "MAPE: 0.21187427639961243\n",
      "Training with layers=[128, 128, 64, 32], activations=['leakyrelu', 'leakyrelu', 'leakyrelu', 'leakyrelu'], dropout=0.4, epochs=2000, lr=0.0001\n"
     ]
    },
    {
     "name": "stderr",
     "output_type": "stream",
     "text": [
      "100%|██████████| 2000/2000 [01:32<00:00, 21.61it/s]\n"
     ]
    },
    {
     "name": "stdout",
     "output_type": "stream",
     "text": [
      "MAPE: 0.2190655767917633\n",
      "Training with layers=[128, 128, 64, 32], activations=['leakyrelu', 'leakyrelu', 'leakyrelu', 'leakyrelu'], dropout=0.4, epochs=2000, lr=0.0005\n"
     ]
    },
    {
     "name": "stderr",
     "output_type": "stream",
     "text": [
      "100%|██████████| 2000/2000 [01:37<00:00, 20.54it/s]\n"
     ]
    },
    {
     "name": "stdout",
     "output_type": "stream",
     "text": [
      "MAPE: 0.18793617188930511\n",
      "Training with layers=[128, 128, 64, 32], activations=['tanh', 'tanh', 'tanh', 'tanh'], dropout=0.2, epochs=1000, lr=0.0001\n"
     ]
    },
    {
     "name": "stderr",
     "output_type": "stream",
     "text": [
      "100%|██████████| 1000/1000 [00:37<00:00, 26.55it/s]\n"
     ]
    },
    {
     "name": "stdout",
     "output_type": "stream",
     "text": [
      "MAPE: 0.29848793148994446\n",
      "Training with layers=[128, 128, 64, 32], activations=['tanh', 'tanh', 'tanh', 'tanh'], dropout=0.2, epochs=1000, lr=0.0005\n"
     ]
    },
    {
     "name": "stderr",
     "output_type": "stream",
     "text": [
      "100%|██████████| 1000/1000 [00:36<00:00, 27.04it/s]\n"
     ]
    },
    {
     "name": "stdout",
     "output_type": "stream",
     "text": [
      "MAPE: 0.23296156525611877\n",
      "Training with layers=[128, 128, 64, 32], activations=['tanh', 'tanh', 'tanh', 'tanh'], dropout=0.2, epochs=2000, lr=0.0001\n"
     ]
    },
    {
     "name": "stderr",
     "output_type": "stream",
     "text": [
      "100%|██████████| 2000/2000 [01:12<00:00, 27.58it/s]\n"
     ]
    },
    {
     "name": "stdout",
     "output_type": "stream",
     "text": [
      "MAPE: 0.2537408471107483\n",
      "Training with layers=[128, 128, 64, 32], activations=['tanh', 'tanh', 'tanh', 'tanh'], dropout=0.2, epochs=2000, lr=0.0005\n"
     ]
    },
    {
     "name": "stderr",
     "output_type": "stream",
     "text": [
      "100%|██████████| 2000/2000 [01:12<00:00, 27.74it/s]\n"
     ]
    },
    {
     "name": "stdout",
     "output_type": "stream",
     "text": [
      "MAPE: 0.2043095827102661\n",
      "Training with layers=[128, 128, 64, 32], activations=['tanh', 'tanh', 'tanh', 'tanh'], dropout=0.3, epochs=1000, lr=0.0001\n"
     ]
    },
    {
     "name": "stderr",
     "output_type": "stream",
     "text": [
      "100%|██████████| 1000/1000 [00:36<00:00, 27.53it/s]\n"
     ]
    },
    {
     "name": "stdout",
     "output_type": "stream",
     "text": [
      "MAPE: 0.3126150071620941\n",
      "Training with layers=[128, 128, 64, 32], activations=['tanh', 'tanh', 'tanh', 'tanh'], dropout=0.3, epochs=1000, lr=0.0005\n"
     ]
    },
    {
     "name": "stderr",
     "output_type": "stream",
     "text": [
      "100%|██████████| 1000/1000 [00:35<00:00, 27.88it/s]\n"
     ]
    },
    {
     "name": "stdout",
     "output_type": "stream",
     "text": [
      "MAPE: 0.24164149165153503\n",
      "Training with layers=[128, 128, 64, 32], activations=['tanh', 'tanh', 'tanh', 'tanh'], dropout=0.3, epochs=2000, lr=0.0001\n"
     ]
    },
    {
     "name": "stderr",
     "output_type": "stream",
     "text": [
      "100%|██████████| 2000/2000 [01:12<00:00, 27.65it/s]\n"
     ]
    },
    {
     "name": "stdout",
     "output_type": "stream",
     "text": [
      "MAPE: 0.26336798071861267\n",
      "Training with layers=[128, 128, 64, 32], activations=['tanh', 'tanh', 'tanh', 'tanh'], dropout=0.3, epochs=2000, lr=0.0005\n"
     ]
    },
    {
     "name": "stderr",
     "output_type": "stream",
     "text": [
      "100%|██████████| 2000/2000 [01:14<00:00, 26.83it/s]\n"
     ]
    },
    {
     "name": "stdout",
     "output_type": "stream",
     "text": [
      "MAPE: 0.21762807667255402\n",
      "Training with layers=[128, 128, 64, 32], activations=['tanh', 'tanh', 'tanh', 'tanh'], dropout=0.4, epochs=1000, lr=0.0001\n"
     ]
    },
    {
     "name": "stderr",
     "output_type": "stream",
     "text": [
      "100%|██████████| 1000/1000 [00:37<00:00, 27.01it/s]\n"
     ]
    },
    {
     "name": "stdout",
     "output_type": "stream",
     "text": [
      "MAPE: 0.33207759261131287\n",
      "Training with layers=[128, 128, 64, 32], activations=['tanh', 'tanh', 'tanh', 'tanh'], dropout=0.4, epochs=1000, lr=0.0005\n"
     ]
    },
    {
     "name": "stderr",
     "output_type": "stream",
     "text": [
      "100%|██████████| 1000/1000 [00:37<00:00, 26.92it/s]\n"
     ]
    },
    {
     "name": "stdout",
     "output_type": "stream",
     "text": [
      "MAPE: 0.25048986077308655\n",
      "Training with layers=[128, 128, 64, 32], activations=['tanh', 'tanh', 'tanh', 'tanh'], dropout=0.4, epochs=2000, lr=0.0001\n"
     ]
    },
    {
     "name": "stderr",
     "output_type": "stream",
     "text": [
      "100%|██████████| 2000/2000 [01:13<00:00, 27.08it/s]\n"
     ]
    },
    {
     "name": "stdout",
     "output_type": "stream",
     "text": [
      "MAPE: 0.27411261200904846\n",
      "Training with layers=[128, 128, 64, 32], activations=['tanh', 'tanh', 'tanh', 'tanh'], dropout=0.4, epochs=2000, lr=0.0005\n"
     ]
    },
    {
     "name": "stderr",
     "output_type": "stream",
     "text": [
      "100%|██████████| 2000/2000 [01:13<00:00, 27.07it/s]\n"
     ]
    },
    {
     "name": "stdout",
     "output_type": "stream",
     "text": [
      "MAPE: 0.23473195731639862\n",
      "Training with layers=[256, 128, 64], activations=['relu', 'relu', 'relu', 'relu'], dropout=0.2, epochs=1000, lr=0.0001\n"
     ]
    },
    {
     "name": "stderr",
     "output_type": "stream",
     "text": [
      "100%|██████████| 1000/1000 [00:59<00:00, 16.69it/s]\n"
     ]
    },
    {
     "name": "stdout",
     "output_type": "stream",
     "text": [
      "MAPE: 0.23241068422794342\n",
      "Training with layers=[256, 128, 64], activations=['relu', 'relu', 'relu', 'relu'], dropout=0.2, epochs=1000, lr=0.0005\n"
     ]
    },
    {
     "name": "stderr",
     "output_type": "stream",
     "text": [
      "100%|██████████| 1000/1000 [00:56<00:00, 17.60it/s]\n"
     ]
    },
    {
     "name": "stdout",
     "output_type": "stream",
     "text": [
      "MAPE: 0.1849135160446167\n",
      "Training with layers=[256, 128, 64], activations=['relu', 'relu', 'relu', 'relu'], dropout=0.2, epochs=2000, lr=0.0001\n"
     ]
    },
    {
     "name": "stderr",
     "output_type": "stream",
     "text": [
      "100%|██████████| 2000/2000 [01:53<00:00, 17.56it/s]\n"
     ]
    },
    {
     "name": "stdout",
     "output_type": "stream",
     "text": [
      "MAPE: 0.201802596449852\n",
      "Training with layers=[256, 128, 64], activations=['relu', 'relu', 'relu', 'relu'], dropout=0.2, epochs=2000, lr=0.0005\n"
     ]
    },
    {
     "name": "stderr",
     "output_type": "stream",
     "text": [
      "100%|██████████| 2000/2000 [01:50<00:00, 18.06it/s]\n"
     ]
    },
    {
     "name": "stdout",
     "output_type": "stream",
     "text": [
      "MAPE: 0.17220439016819\n",
      "Training with layers=[256, 128, 64], activations=['relu', 'relu', 'relu', 'relu'], dropout=0.3, epochs=1000, lr=0.0001\n"
     ]
    },
    {
     "name": "stderr",
     "output_type": "stream",
     "text": [
      "100%|██████████| 1000/1000 [00:56<00:00, 17.85it/s]\n"
     ]
    },
    {
     "name": "stdout",
     "output_type": "stream",
     "text": [
      "MAPE: 0.22515641152858734\n",
      "Training with layers=[256, 128, 64], activations=['relu', 'relu', 'relu', 'relu'], dropout=0.3, epochs=1000, lr=0.0005\n"
     ]
    },
    {
     "name": "stderr",
     "output_type": "stream",
     "text": [
      "100%|██████████| 1000/1000 [00:55<00:00, 17.99it/s]\n"
     ]
    },
    {
     "name": "stdout",
     "output_type": "stream",
     "text": [
      "MAPE: 0.18452925980091095\n",
      "Training with layers=[256, 128, 64], activations=['relu', 'relu', 'relu', 'relu'], dropout=0.3, epochs=2000, lr=0.0001\n"
     ]
    },
    {
     "name": "stderr",
     "output_type": "stream",
     "text": [
      "100%|██████████| 2000/2000 [01:51<00:00, 17.91it/s]\n"
     ]
    },
    {
     "name": "stdout",
     "output_type": "stream",
     "text": [
      "MAPE: 0.20467880368232727\n",
      "Training with layers=[256, 128, 64], activations=['relu', 'relu', 'relu', 'relu'], dropout=0.3, epochs=2000, lr=0.0005\n"
     ]
    },
    {
     "name": "stderr",
     "output_type": "stream",
     "text": [
      "100%|██████████| 2000/2000 [01:51<00:00, 17.93it/s]\n"
     ]
    },
    {
     "name": "stdout",
     "output_type": "stream",
     "text": [
      "MAPE: 0.17436939477920532\n",
      "Training with layers=[256, 128, 64], activations=['relu', 'relu', 'relu', 'relu'], dropout=0.4, epochs=1000, lr=0.0001\n"
     ]
    },
    {
     "name": "stderr",
     "output_type": "stream",
     "text": [
      "100%|██████████| 1000/1000 [00:55<00:00, 17.87it/s]\n"
     ]
    },
    {
     "name": "stdout",
     "output_type": "stream",
     "text": [
      "MAPE: 0.22788706421852112\n",
      "Training with layers=[256, 128, 64], activations=['relu', 'relu', 'relu', 'relu'], dropout=0.4, epochs=1000, lr=0.0005\n"
     ]
    },
    {
     "name": "stderr",
     "output_type": "stream",
     "text": [
      "100%|██████████| 1000/1000 [00:55<00:00, 17.88it/s]\n"
     ]
    },
    {
     "name": "stdout",
     "output_type": "stream",
     "text": [
      "MAPE: 0.19552917778491974\n",
      "Training with layers=[256, 128, 64], activations=['relu', 'relu', 'relu', 'relu'], dropout=0.4, epochs=2000, lr=0.0001\n"
     ]
    },
    {
     "name": "stderr",
     "output_type": "stream",
     "text": [
      "100%|██████████| 2000/2000 [01:54<00:00, 17.52it/s]\n"
     ]
    },
    {
     "name": "stdout",
     "output_type": "stream",
     "text": [
      "MAPE: 0.21125632524490356\n",
      "Training with layers=[256, 128, 64], activations=['relu', 'relu', 'relu', 'relu'], dropout=0.4, epochs=2000, lr=0.0005\n"
     ]
    },
    {
     "name": "stderr",
     "output_type": "stream",
     "text": [
      "100%|██████████| 2000/2000 [01:53<00:00, 17.68it/s]\n"
     ]
    },
    {
     "name": "stdout",
     "output_type": "stream",
     "text": [
      "MAPE: 0.18122810125350952\n",
      "Training with layers=[256, 128, 64], activations=['leakyrelu', 'leakyrelu', 'leakyrelu', 'leakyrelu'], dropout=0.2, epochs=1000, lr=0.0001\n"
     ]
    },
    {
     "name": "stderr",
     "output_type": "stream",
     "text": [
      "100%|██████████| 1000/1000 [01:05<00:00, 15.22it/s]\n"
     ]
    },
    {
     "name": "stdout",
     "output_type": "stream",
     "text": [
      "MAPE: 0.22454726696014404\n",
      "Training with layers=[256, 128, 64], activations=['leakyrelu', 'leakyrelu', 'leakyrelu', 'leakyrelu'], dropout=0.2, epochs=1000, lr=0.0005\n"
     ]
    },
    {
     "name": "stderr",
     "output_type": "stream",
     "text": [
      "100%|██████████| 1000/1000 [01:06<00:00, 15.04it/s]\n"
     ]
    },
    {
     "name": "stdout",
     "output_type": "stream",
     "text": [
      "MAPE: 0.18334518373012543\n",
      "Training with layers=[256, 128, 64], activations=['leakyrelu', 'leakyrelu', 'leakyrelu', 'leakyrelu'], dropout=0.2, epochs=2000, lr=0.0001\n"
     ]
    },
    {
     "name": "stderr",
     "output_type": "stream",
     "text": [
      "100%|██████████| 2000/2000 [02:12<00:00, 15.10it/s]\n"
     ]
    },
    {
     "name": "stdout",
     "output_type": "stream",
     "text": [
      "MAPE: 0.20760983228683472\n",
      "Training with layers=[256, 128, 64], activations=['leakyrelu', 'leakyrelu', 'leakyrelu', 'leakyrelu'], dropout=0.2, epochs=2000, lr=0.0005\n"
     ]
    },
    {
     "name": "stderr",
     "output_type": "stream",
     "text": [
      "100%|██████████| 2000/2000 [02:10<00:00, 15.38it/s]\n"
     ]
    },
    {
     "name": "stdout",
     "output_type": "stream",
     "text": [
      "MAPE: 0.17455781996250153\n",
      "Training with layers=[256, 128, 64], activations=['leakyrelu', 'leakyrelu', 'leakyrelu', 'leakyrelu'], dropout=0.3, epochs=1000, lr=0.0001\n"
     ]
    },
    {
     "name": "stderr",
     "output_type": "stream",
     "text": [
      "100%|██████████| 1000/1000 [01:05<00:00, 15.30it/s]\n"
     ]
    },
    {
     "name": "stdout",
     "output_type": "stream",
     "text": [
      "MAPE: 0.23138540983200073\n",
      "Training with layers=[256, 128, 64], activations=['leakyrelu', 'leakyrelu', 'leakyrelu', 'leakyrelu'], dropout=0.3, epochs=1000, lr=0.0005\n"
     ]
    },
    {
     "name": "stderr",
     "output_type": "stream",
     "text": [
      "100%|██████████| 1000/1000 [01:06<00:00, 15.13it/s]\n"
     ]
    },
    {
     "name": "stdout",
     "output_type": "stream",
     "text": [
      "MAPE: 0.1905822455883026\n",
      "Training with layers=[256, 128, 64], activations=['leakyrelu', 'leakyrelu', 'leakyrelu', 'leakyrelu'], dropout=0.3, epochs=2000, lr=0.0001\n"
     ]
    },
    {
     "name": "stderr",
     "output_type": "stream",
     "text": [
      "100%|██████████| 2000/2000 [02:13<00:00, 14.99it/s]\n"
     ]
    },
    {
     "name": "stdout",
     "output_type": "stream",
     "text": [
      "MAPE: 0.2076813280582428\n",
      "Training with layers=[256, 128, 64], activations=['leakyrelu', 'leakyrelu', 'leakyrelu', 'leakyrelu'], dropout=0.3, epochs=2000, lr=0.0005\n"
     ]
    },
    {
     "name": "stderr",
     "output_type": "stream",
     "text": [
      "100%|██████████| 2000/2000 [02:13<00:00, 14.97it/s]\n"
     ]
    },
    {
     "name": "stdout",
     "output_type": "stream",
     "text": [
      "MAPE: 0.1768854707479477\n",
      "Training with layers=[256, 128, 64], activations=['leakyrelu', 'leakyrelu', 'leakyrelu', 'leakyrelu'], dropout=0.4, epochs=1000, lr=0.0001\n"
     ]
    },
    {
     "name": "stderr",
     "output_type": "stream",
     "text": [
      "100%|██████████| 1000/1000 [01:06<00:00, 14.97it/s]\n"
     ]
    },
    {
     "name": "stdout",
     "output_type": "stream",
     "text": [
      "MAPE: 0.22984722256660461\n",
      "Training with layers=[256, 128, 64], activations=['leakyrelu', 'leakyrelu', 'leakyrelu', 'leakyrelu'], dropout=0.4, epochs=1000, lr=0.0005\n"
     ]
    },
    {
     "name": "stderr",
     "output_type": "stream",
     "text": [
      "100%|██████████| 1000/1000 [01:09<00:00, 14.42it/s]\n"
     ]
    },
    {
     "name": "stdout",
     "output_type": "stream",
     "text": [
      "MAPE: 0.19750714302062988\n",
      "Training with layers=[256, 128, 64], activations=['leakyrelu', 'leakyrelu', 'leakyrelu', 'leakyrelu'], dropout=0.4, epochs=2000, lr=0.0001\n"
     ]
    },
    {
     "name": "stderr",
     "output_type": "stream",
     "text": [
      "100%|██████████| 2000/2000 [02:12<00:00, 15.06it/s]\n"
     ]
    },
    {
     "name": "stdout",
     "output_type": "stream",
     "text": [
      "MAPE: 0.2088741809129715\n",
      "Training with layers=[256, 128, 64], activations=['leakyrelu', 'leakyrelu', 'leakyrelu', 'leakyrelu'], dropout=0.4, epochs=2000, lr=0.0005\n"
     ]
    },
    {
     "name": "stderr",
     "output_type": "stream",
     "text": [
      "100%|██████████| 2000/2000 [02:13<00:00, 14.94it/s]\n"
     ]
    },
    {
     "name": "stdout",
     "output_type": "stream",
     "text": [
      "MAPE: 0.18045084178447723\n",
      "Training with layers=[256, 128, 64], activations=['tanh', 'tanh', 'tanh', 'tanh'], dropout=0.2, epochs=1000, lr=0.0001\n"
     ]
    },
    {
     "name": "stderr",
     "output_type": "stream",
     "text": [
      "100%|██████████| 1000/1000 [00:51<00:00, 19.45it/s]\n"
     ]
    },
    {
     "name": "stdout",
     "output_type": "stream",
     "text": [
      "MAPE: 0.2749267816543579\n",
      "Training with layers=[256, 128, 64], activations=['tanh', 'tanh', 'tanh', 'tanh'], dropout=0.2, epochs=1000, lr=0.0005\n"
     ]
    },
    {
     "name": "stderr",
     "output_type": "stream",
     "text": [
      "100%|██████████| 1000/1000 [00:52<00:00, 19.01it/s]\n"
     ]
    },
    {
     "name": "stdout",
     "output_type": "stream",
     "text": [
      "MAPE: 0.22085879743099213\n",
      "Training with layers=[256, 128, 64], activations=['tanh', 'tanh', 'tanh', 'tanh'], dropout=0.2, epochs=2000, lr=0.0001\n"
     ]
    },
    {
     "name": "stderr",
     "output_type": "stream",
     "text": [
      "100%|██████████| 2000/2000 [01:46<00:00, 18.75it/s]\n"
     ]
    },
    {
     "name": "stdout",
     "output_type": "stream",
     "text": [
      "MAPE: 0.20297376811504364\n",
      "Training with layers=[256, 128, 64], activations=['tanh', 'tanh', 'tanh', 'tanh'], dropout=0.3, epochs=1000, lr=0.0001\n"
     ]
    },
    {
     "name": "stderr",
     "output_type": "stream",
     "text": [
      "100%|██████████| 1000/1000 [00:52<00:00, 19.10it/s]\n"
     ]
    },
    {
     "name": "stdout",
     "output_type": "stream",
     "text": [
      "MAPE: 0.28373026847839355\n",
      "Training with layers=[256, 128, 64], activations=['tanh', 'tanh', 'tanh', 'tanh'], dropout=0.3, epochs=1000, lr=0.0005\n"
     ]
    },
    {
     "name": "stderr",
     "output_type": "stream",
     "text": [
      "100%|██████████| 1000/1000 [00:53<00:00, 18.83it/s]\n"
     ]
    },
    {
     "name": "stdout",
     "output_type": "stream",
     "text": [
      "MAPE: 0.23704732954502106\n",
      "Training with layers=[256, 128, 64], activations=['tanh', 'tanh', 'tanh', 'tanh'], dropout=0.3, epochs=2000, lr=0.0001\n"
     ]
    },
    {
     "name": "stderr",
     "output_type": "stream",
     "text": [
      "100%|██████████| 2000/2000 [01:57<00:00, 17.07it/s]\n"
     ]
    },
    {
     "name": "stdout",
     "output_type": "stream",
     "text": [
      "MAPE: 0.25252193212509155\n",
      "Training with layers=[256, 128, 64], activations=['tanh', 'tanh', 'tanh', 'tanh'], dropout=0.3, epochs=2000, lr=0.0005\n"
     ]
    },
    {
     "name": "stderr",
     "output_type": "stream",
     "text": [
      "100%|██████████| 2000/2000 [01:46<00:00, 18.73it/s]\n"
     ]
    },
    {
     "name": "stdout",
     "output_type": "stream",
     "text": [
      "MAPE: 0.20661866664886475\n",
      "Training with layers=[256, 128, 64], activations=['tanh', 'tanh', 'tanh', 'tanh'], dropout=0.4, epochs=1000, lr=0.0001\n"
     ]
    },
    {
     "name": "stderr",
     "output_type": "stream",
     "text": [
      "100%|██████████| 1000/1000 [00:51<00:00, 19.27it/s]\n"
     ]
    },
    {
     "name": "stdout",
     "output_type": "stream",
     "text": [
      "MAPE: 0.30458858609199524\n",
      "Training with layers=[256, 128, 64], activations=['tanh', 'tanh', 'tanh', 'tanh'], dropout=0.4, epochs=1000, lr=0.0005\n"
     ]
    },
    {
     "name": "stderr",
     "output_type": "stream",
     "text": [
      "100%|██████████| 1000/1000 [00:51<00:00, 19.25it/s]\n"
     ]
    },
    {
     "name": "stdout",
     "output_type": "stream",
     "text": [
      "MAPE: 0.23983347415924072\n",
      "Training with layers=[256, 128, 64], activations=['tanh', 'tanh', 'tanh', 'tanh'], dropout=0.4, epochs=2000, lr=0.0001\n"
     ]
    },
    {
     "name": "stderr",
     "output_type": "stream",
     "text": [
      "100%|██████████| 2000/2000 [01:43<00:00, 19.39it/s]\n"
     ]
    },
    {
     "name": "stdout",
     "output_type": "stream",
     "text": [
      "MAPE: 0.2643539607524872\n",
      "Training with layers=[256, 128, 64], activations=['tanh', 'tanh', 'tanh', 'tanh'], dropout=0.4, epochs=2000, lr=0.0005\n"
     ]
    },
    {
     "name": "stderr",
     "output_type": "stream",
     "text": [
      "100%|██████████| 2000/2000 [01:43<00:00, 19.26it/s]\n"
     ]
    },
    {
     "name": "stdout",
     "output_type": "stream",
     "text": [
      "MAPE: 0.21700668334960938\n",
      "Training with layers=[128, 64, 32], activations=['relu', 'relu', 'relu', 'relu'], dropout=0.2, epochs=1000, lr=0.0001\n"
     ]
    },
    {
     "name": "stderr",
     "output_type": "stream",
     "text": [
      "100%|██████████| 1000/1000 [00:24<00:00, 40.22it/s]\n"
     ]
    },
    {
     "name": "stdout",
     "output_type": "stream",
     "text": [
      "MAPE: 0.257453054189682\n",
      "Training with layers=[128, 64, 32], activations=['relu', 'relu', 'relu', 'relu'], dropout=0.2, epochs=1000, lr=0.0005\n"
     ]
    },
    {
     "name": "stderr",
     "output_type": "stream",
     "text": [
      "100%|██████████| 1000/1000 [00:23<00:00, 42.72it/s]\n"
     ]
    },
    {
     "name": "stdout",
     "output_type": "stream",
     "text": [
      "MAPE: 0.19427892565727234\n",
      "Training with layers=[128, 64, 32], activations=['relu', 'relu', 'relu', 'relu'], dropout=0.2, epochs=2000, lr=0.0001\n"
     ]
    },
    {
     "name": "stderr",
     "output_type": "stream",
     "text": [
      "100%|██████████| 2000/2000 [00:47<00:00, 42.13it/s]\n"
     ]
    },
    {
     "name": "stdout",
     "output_type": "stream",
     "text": [
      "MAPE: 0.22415827214717865\n",
      "Training with layers=[128, 64, 32], activations=['relu', 'relu', 'relu', 'relu'], dropout=0.2, epochs=2000, lr=0.0005\n"
     ]
    },
    {
     "name": "stderr",
     "output_type": "stream",
     "text": [
      "100%|██████████| 2000/2000 [00:49<00:00, 40.00it/s]\n"
     ]
    },
    {
     "name": "stdout",
     "output_type": "stream",
     "text": [
      "MAPE: 0.18429388105869293\n",
      "Training with layers=[128, 64, 32], activations=['relu', 'relu', 'relu', 'relu'], dropout=0.3, epochs=1000, lr=0.0001\n"
     ]
    },
    {
     "name": "stderr",
     "output_type": "stream",
     "text": [
      "100%|██████████| 1000/1000 [00:23<00:00, 42.13it/s]\n"
     ]
    },
    {
     "name": "stdout",
     "output_type": "stream",
     "text": [
      "MAPE: 0.2542434334754944\n",
      "Training with layers=[128, 64, 32], activations=['relu', 'relu', 'relu', 'relu'], dropout=0.3, epochs=1000, lr=0.0005\n"
     ]
    },
    {
     "name": "stderr",
     "output_type": "stream",
     "text": [
      "100%|██████████| 1000/1000 [00:23<00:00, 42.94it/s]\n"
     ]
    },
    {
     "name": "stdout",
     "output_type": "stream",
     "text": [
      "MAPE: 0.20636692643165588\n",
      "Training with layers=[128, 64, 32], activations=['relu', 'relu', 'relu', 'relu'], dropout=0.3, epochs=2000, lr=0.0001\n"
     ]
    },
    {
     "name": "stderr",
     "output_type": "stream",
     "text": [
      "100%|██████████| 2000/2000 [00:46<00:00, 42.79it/s]\n"
     ]
    },
    {
     "name": "stdout",
     "output_type": "stream",
     "text": [
      "MAPE: 0.22285737097263336\n",
      "Training with layers=[128, 64, 32], activations=['relu', 'relu', 'relu', 'relu'], dropout=0.3, epochs=2000, lr=0.0005\n"
     ]
    },
    {
     "name": "stderr",
     "output_type": "stream",
     "text": [
      "100%|██████████| 2000/2000 [00:46<00:00, 42.82it/s]\n"
     ]
    },
    {
     "name": "stdout",
     "output_type": "stream",
     "text": [
      "MAPE: 0.20157204568386078\n",
      "Training with layers=[128, 64, 32], activations=['relu', 'relu', 'relu', 'relu'], dropout=0.4, epochs=1000, lr=0.0001\n"
     ]
    },
    {
     "name": "stderr",
     "output_type": "stream",
     "text": [
      "100%|██████████| 1000/1000 [00:23<00:00, 42.33it/s]\n"
     ]
    },
    {
     "name": "stdout",
     "output_type": "stream",
     "text": [
      "MAPE: 0.25085562467575073\n",
      "Training with layers=[128, 64, 32], activations=['relu', 'relu', 'relu', 'relu'], dropout=0.4, epochs=1000, lr=0.0005\n"
     ]
    },
    {
     "name": "stderr",
     "output_type": "stream",
     "text": [
      "100%|██████████| 1000/1000 [00:23<00:00, 42.82it/s]\n"
     ]
    },
    {
     "name": "stdout",
     "output_type": "stream",
     "text": [
      "MAPE: 0.20727284252643585\n",
      "Training with layers=[128, 64, 32], activations=['relu', 'relu', 'relu', 'relu'], dropout=0.4, epochs=2000, lr=0.0001\n"
     ]
    },
    {
     "name": "stderr",
     "output_type": "stream",
     "text": [
      "100%|██████████| 2000/2000 [00:47<00:00, 42.29it/s]\n"
     ]
    },
    {
     "name": "stdout",
     "output_type": "stream",
     "text": [
      "MAPE: 0.22654323279857635\n",
      "Training with layers=[128, 64, 32], activations=['relu', 'relu', 'relu', 'relu'], dropout=0.4, epochs=2000, lr=0.0005\n"
     ]
    },
    {
     "name": "stderr",
     "output_type": "stream",
     "text": [
      "100%|██████████| 2000/2000 [00:47<00:00, 42.49it/s]\n"
     ]
    },
    {
     "name": "stdout",
     "output_type": "stream",
     "text": [
      "MAPE: 0.1970033198595047\n",
      "Training with layers=[128, 64, 32], activations=['leakyrelu', 'leakyrelu', 'leakyrelu', 'leakyrelu'], dropout=0.2, epochs=1000, lr=0.0001\n"
     ]
    },
    {
     "name": "stderr",
     "output_type": "stream",
     "text": [
      "100%|██████████| 1000/1000 [00:28<00:00, 35.22it/s]\n"
     ]
    },
    {
     "name": "stdout",
     "output_type": "stream",
     "text": [
      "MAPE: 0.2628781199455261\n",
      "Training with layers=[128, 64, 32], activations=['leakyrelu', 'leakyrelu', 'leakyrelu', 'leakyrelu'], dropout=0.2, epochs=1000, lr=0.0005\n"
     ]
    },
    {
     "name": "stderr",
     "output_type": "stream",
     "text": [
      "100%|██████████| 1000/1000 [00:28<00:00, 35.10it/s]\n"
     ]
    },
    {
     "name": "stdout",
     "output_type": "stream",
     "text": [
      "MAPE: 0.20018230378627777\n",
      "Training with layers=[128, 64, 32], activations=['leakyrelu', 'leakyrelu', 'leakyrelu', 'leakyrelu'], dropout=0.2, epochs=2000, lr=0.0001\n"
     ]
    },
    {
     "name": "stderr",
     "output_type": "stream",
     "text": [
      "100%|██████████| 2000/2000 [00:56<00:00, 35.70it/s]\n"
     ]
    },
    {
     "name": "stdout",
     "output_type": "stream",
     "text": [
      "MAPE: 0.22762513160705566\n",
      "Training with layers=[128, 64, 32], activations=['leakyrelu', 'leakyrelu', 'leakyrelu', 'leakyrelu'], dropout=0.2, epochs=2000, lr=0.0005\n"
     ]
    },
    {
     "name": "stderr",
     "output_type": "stream",
     "text": [
      "100%|██████████| 2000/2000 [00:56<00:00, 35.40it/s]\n"
     ]
    },
    {
     "name": "stdout",
     "output_type": "stream",
     "text": [
      "MAPE: 0.18398648500442505\n",
      "Training with layers=[128, 64, 32], activations=['leakyrelu', 'leakyrelu', 'leakyrelu', 'leakyrelu'], dropout=0.3, epochs=1000, lr=0.0001\n"
     ]
    },
    {
     "name": "stderr",
     "output_type": "stream",
     "text": [
      "100%|██████████| 1000/1000 [00:28<00:00, 35.13it/s]\n"
     ]
    },
    {
     "name": "stdout",
     "output_type": "stream",
     "text": [
      "MAPE: 0.24565015733242035\n",
      "Training with layers=[128, 64, 32], activations=['leakyrelu', 'leakyrelu', 'leakyrelu', 'leakyrelu'], dropout=0.3, epochs=1000, lr=0.0005\n"
     ]
    },
    {
     "name": "stderr",
     "output_type": "stream",
     "text": [
      "100%|██████████| 1000/1000 [00:27<00:00, 35.79it/s]\n"
     ]
    },
    {
     "name": "stdout",
     "output_type": "stream",
     "text": [
      "MAPE: 0.2049579918384552\n",
      "Training with layers=[128, 64, 32], activations=['leakyrelu', 'leakyrelu', 'leakyrelu', 'leakyrelu'], dropout=0.3, epochs=2000, lr=0.0001\n"
     ]
    },
    {
     "name": "stderr",
     "output_type": "stream",
     "text": [
      "100%|██████████| 2000/2000 [00:57<00:00, 34.83it/s]\n"
     ]
    },
    {
     "name": "stdout",
     "output_type": "stream",
     "text": [
      "MAPE: 0.228164404630661\n",
      "Training with layers=[128, 64, 32], activations=['leakyrelu', 'leakyrelu', 'leakyrelu', 'leakyrelu'], dropout=0.3, epochs=2000, lr=0.0005\n"
     ]
    },
    {
     "name": "stderr",
     "output_type": "stream",
     "text": [
      "100%|██████████| 2000/2000 [00:59<00:00, 33.71it/s]\n"
     ]
    },
    {
     "name": "stdout",
     "output_type": "stream",
     "text": [
      "MAPE: 0.19077259302139282\n",
      "Training with layers=[128, 64, 32], activations=['leakyrelu', 'leakyrelu', 'leakyrelu', 'leakyrelu'], dropout=0.4, epochs=1000, lr=0.0001\n"
     ]
    },
    {
     "name": "stderr",
     "output_type": "stream",
     "text": [
      "100%|██████████| 1000/1000 [00:29<00:00, 33.41it/s]\n"
     ]
    },
    {
     "name": "stdout",
     "output_type": "stream",
     "text": [
      "MAPE: 0.24561607837677002\n",
      "Training with layers=[128, 64, 32], activations=['leakyrelu', 'leakyrelu', 'leakyrelu', 'leakyrelu'], dropout=0.4, epochs=1000, lr=0.0005\n"
     ]
    },
    {
     "name": "stderr",
     "output_type": "stream",
     "text": [
      "100%|██████████| 1000/1000 [00:29<00:00, 34.47it/s]\n"
     ]
    },
    {
     "name": "stdout",
     "output_type": "stream",
     "text": [
      "MAPE: 0.20705874264240265\n",
      "Training with layers=[128, 64, 32], activations=['leakyrelu', 'leakyrelu', 'leakyrelu', 'leakyrelu'], dropout=0.4, epochs=2000, lr=0.0001\n"
     ]
    },
    {
     "name": "stderr",
     "output_type": "stream",
     "text": [
      "100%|██████████| 2000/2000 [00:57<00:00, 34.83it/s]\n"
     ]
    },
    {
     "name": "stdout",
     "output_type": "stream",
     "text": [
      "MAPE: 0.22721099853515625\n",
      "Training with layers=[128, 64, 32], activations=['leakyrelu', 'leakyrelu', 'leakyrelu', 'leakyrelu'], dropout=0.4, epochs=2000, lr=0.0005\n"
     ]
    },
    {
     "name": "stderr",
     "output_type": "stream",
     "text": [
      "100%|██████████| 2000/2000 [00:57<00:00, 34.76it/s]\n"
     ]
    },
    {
     "name": "stdout",
     "output_type": "stream",
     "text": [
      "MAPE: 0.19653084874153137\n",
      "Training with layers=[128, 64, 32], activations=['tanh', 'tanh', 'tanh', 'tanh'], dropout=0.2, epochs=1000, lr=0.0001\n"
     ]
    },
    {
     "name": "stderr",
     "output_type": "stream",
     "text": [
      "100%|██████████| 1000/1000 [00:23<00:00, 43.42it/s]\n"
     ]
    },
    {
     "name": "stdout",
     "output_type": "stream",
     "text": [
      "MAPE: 0.32749319076538086\n",
      "Training with layers=[128, 64, 32], activations=['tanh', 'tanh', 'tanh', 'tanh'], dropout=0.2, epochs=1000, lr=0.0005\n"
     ]
    },
    {
     "name": "stderr",
     "output_type": "stream",
     "text": [
      "100%|██████████| 1000/1000 [00:21<00:00, 45.84it/s]\n"
     ]
    },
    {
     "name": "stdout",
     "output_type": "stream",
     "text": [
      "MAPE: 0.24368596076965332\n",
      "Training with layers=[128, 64, 32], activations=['tanh', 'tanh', 'tanh', 'tanh'], dropout=0.2, epochs=2000, lr=0.0001\n"
     ]
    },
    {
     "name": "stderr",
     "output_type": "stream",
     "text": [
      "100%|██████████| 2000/2000 [00:44<00:00, 45.38it/s]\n"
     ]
    },
    {
     "name": "stdout",
     "output_type": "stream",
     "text": [
      "MAPE: 0.26794004440307617\n",
      "Training with layers=[128, 64, 32], activations=['tanh', 'tanh', 'tanh', 'tanh'], dropout=0.2, epochs=2000, lr=0.0005\n"
     ]
    },
    {
     "name": "stderr",
     "output_type": "stream",
     "text": [
      "100%|██████████| 2000/2000 [00:44<00:00, 44.79it/s]\n"
     ]
    },
    {
     "name": "stdout",
     "output_type": "stream",
     "text": [
      "MAPE: 0.21616610884666443\n",
      "Training with layers=[128, 64, 32], activations=['tanh', 'tanh', 'tanh', 'tanh'], dropout=0.3, epochs=1000, lr=0.0001\n"
     ]
    },
    {
     "name": "stderr",
     "output_type": "stream",
     "text": [
      "100%|██████████| 1000/1000 [00:22<00:00, 44.63it/s]\n"
     ]
    },
    {
     "name": "stdout",
     "output_type": "stream",
     "text": [
      "MAPE: 0.3208034336566925\n",
      "Training with layers=[128, 64, 32], activations=['tanh', 'tanh', 'tanh', 'tanh'], dropout=0.3, epochs=1000, lr=0.0005\n"
     ]
    },
    {
     "name": "stderr",
     "output_type": "stream",
     "text": [
      "100%|██████████| 1000/1000 [00:21<00:00, 45.89it/s]\n"
     ]
    },
    {
     "name": "stdout",
     "output_type": "stream",
     "text": [
      "MAPE: 0.24864064157009125\n",
      "Training with layers=[128, 64, 32], activations=['tanh', 'tanh', 'tanh', 'tanh'], dropout=0.3, epochs=2000, lr=0.0001\n"
     ]
    },
    {
     "name": "stderr",
     "output_type": "stream",
     "text": [
      "100%|██████████| 2000/2000 [00:45<00:00, 43.63it/s]\n"
     ]
    },
    {
     "name": "stdout",
     "output_type": "stream",
     "text": [
      "MAPE: 0.2889616787433624\n",
      "Training with layers=[128, 64, 32], activations=['tanh', 'tanh', 'tanh', 'tanh'], dropout=0.3, epochs=2000, lr=0.0005\n"
     ]
    },
    {
     "name": "stderr",
     "output_type": "stream",
     "text": [
      "100%|██████████| 2000/2000 [00:43<00:00, 45.53it/s]\n"
     ]
    },
    {
     "name": "stdout",
     "output_type": "stream",
     "text": [
      "MAPE: 0.2377863973379135\n",
      "Training with layers=[128, 64, 32], activations=['tanh', 'tanh', 'tanh', 'tanh'], dropout=0.4, epochs=1000, lr=0.0001\n"
     ]
    },
    {
     "name": "stderr",
     "output_type": "stream",
     "text": [
      "100%|██████████| 1000/1000 [00:21<00:00, 45.89it/s]\n"
     ]
    },
    {
     "name": "stdout",
     "output_type": "stream",
     "text": [
      "MAPE: 0.33376553654670715\n",
      "Training with layers=[128, 64, 32], activations=['tanh', 'tanh', 'tanh', 'tanh'], dropout=0.4, epochs=1000, lr=0.0005\n"
     ]
    },
    {
     "name": "stderr",
     "output_type": "stream",
     "text": [
      "100%|██████████| 1000/1000 [00:22<00:00, 44.60it/s]\n"
     ]
    },
    {
     "name": "stdout",
     "output_type": "stream",
     "text": [
      "MAPE: 0.2597244381904602\n",
      "Training with layers=[128, 64, 32], activations=['tanh', 'tanh', 'tanh', 'tanh'], dropout=0.4, epochs=2000, lr=0.0001\n"
     ]
    },
    {
     "name": "stderr",
     "output_type": "stream",
     "text": [
      "100%|██████████| 2000/2000 [00:44<00:00, 45.14it/s]\n"
     ]
    },
    {
     "name": "stdout",
     "output_type": "stream",
     "text": [
      "MAPE: 0.30846917629241943\n",
      "Training with layers=[128, 64, 32], activations=['tanh', 'tanh', 'tanh', 'tanh'], dropout=0.4, epochs=2000, lr=0.0005\n"
     ]
    },
    {
     "name": "stderr",
     "output_type": "stream",
     "text": [
      "100%|██████████| 2000/2000 [00:44<00:00, 45.29it/s]"
     ]
    },
    {
     "name": "stdout",
     "output_type": "stream",
     "text": [
      "MAPE: 0.247308149933815\n"
     ]
    },
    {
     "name": "stderr",
     "output_type": "stream",
     "text": [
      "\n"
     ]
    }
   ],
   "source": [
    "# Przeszukiwanie przestrzeni hiperparametrów\n",
    "best_mape = float('inf')\n",
    "best_config = None\n",
    "best_model = None\n",
    "\n",
    "for layers in layer_configs:\n",
    "    for activations in activation_configs:\n",
    "        for dropout_rate in dropout_rates:\n",
    "            for epochs in epoch_numbers:\n",
    "                for lr in learning_rates:\n",
    "                    print(f\"Training with layers={layers}, activations={activations}, dropout={dropout_rate}, epochs={epochs}, lr={lr}\")\n",
    "                    mape, model = train_model(layers, activations, dropout_rate, epochs, lr)\n",
    "                    print(f\"MAPE: {mape}\")\n",
    "                    if mape < best_mape:\n",
    "                        best_mape = mape\n",
    "                        best_config = (layers, activations, dropout_rate, epochs, lr)\n",
    "                        best_model = model"
   ]
  },
  {
   "cell_type": "code",
   "execution_count": null,
   "id": "4efb06b9-9000-4048-8aa2-f58f40545c33",
   "metadata": {},
   "outputs": [],
   "source": [
    "# Best MAPE: 0.17220439016819\n",
    "# Best configuration: Layers=[256, 128, 64], Activations=['relu', 'relu', 'relu', 'relu'], Dropout=0.2, Epochs=2000, Learning rate=0.0005"
   ]
  },
  {
   "cell_type": "code",
   "execution_count": 9,
   "id": "2ae198c3-4127-4b52-a37c-55d36c50e337",
   "metadata": {},
   "outputs": [
    {
     "name": "stdout",
     "output_type": "stream",
     "text": [
      "Best MAPE: 0.17220439016819\n",
      "Best configuration: Layers=[256, 128, 64], Activations=['relu', 'relu', 'relu', 'relu'], Dropout=0.2, Epochs=2000, Learning rate=0.0005\n"
     ]
    },
    {
     "ename": "NameError",
     "evalue": "name 'mse_list' is not defined",
     "output_type": "error",
     "traceback": [
      "\u001b[1;31m---------------------------------------------------------------------------\u001b[0m",
      "\u001b[1;31mNameError\u001b[0m                                 Traceback (most recent call last)",
      "Cell \u001b[1;32mIn[9], line 4\u001b[0m\n\u001b[0;32m      1\u001b[0m \u001b[38;5;28mprint\u001b[39m(\u001b[38;5;124mf\u001b[39m\u001b[38;5;124m\"\u001b[39m\u001b[38;5;124mBest MAPE: \u001b[39m\u001b[38;5;132;01m{\u001b[39;00mbest_mape\u001b[38;5;132;01m}\u001b[39;00m\u001b[38;5;124m\"\u001b[39m)\n\u001b[0;32m      2\u001b[0m \u001b[38;5;28mprint\u001b[39m(\u001b[38;5;124mf\u001b[39m\u001b[38;5;124m\"\u001b[39m\u001b[38;5;124mBest configuration: Layers=\u001b[39m\u001b[38;5;132;01m{\u001b[39;00mbest_config[\u001b[38;5;241m0\u001b[39m]\u001b[38;5;132;01m}\u001b[39;00m\u001b[38;5;124m, Activations=\u001b[39m\u001b[38;5;132;01m{\u001b[39;00mbest_config[\u001b[38;5;241m1\u001b[39m]\u001b[38;5;132;01m}\u001b[39;00m\u001b[38;5;124m, Dropout=\u001b[39m\u001b[38;5;132;01m{\u001b[39;00mbest_config[\u001b[38;5;241m2\u001b[39m]\u001b[38;5;132;01m}\u001b[39;00m\u001b[38;5;124m, Epochs=\u001b[39m\u001b[38;5;132;01m{\u001b[39;00mbest_config[\u001b[38;5;241m3\u001b[39m]\u001b[38;5;132;01m}\u001b[39;00m\u001b[38;5;124m, Learning rate=\u001b[39m\u001b[38;5;132;01m{\u001b[39;00mbest_config[\u001b[38;5;241m4\u001b[39m]\u001b[38;5;132;01m}\u001b[39;00m\u001b[38;5;124m\"\u001b[39m)\n\u001b[1;32m----> 4\u001b[0m plt\u001b[38;5;241m.\u001b[39mplot(mse_list, label\u001b[38;5;241m=\u001b[39m\u001b[38;5;124m\"\u001b[39m\u001b[38;5;124mMSE\u001b[39m\u001b[38;5;124m\"\u001b[39m)\n\u001b[0;32m      5\u001b[0m plt\u001b[38;5;241m.\u001b[39mplot(mape_list, label\u001b[38;5;241m=\u001b[39m\u001b[38;5;124m\"\u001b[39m\u001b[38;5;124mMAPE\u001b[39m\u001b[38;5;124m\"\u001b[39m)\n\u001b[0;32m      6\u001b[0m plt\u001b[38;5;241m.\u001b[39mylabel(\u001b[38;5;124m\"\u001b[39m\u001b[38;5;124mvalidation MSE and MAPE\u001b[39m\u001b[38;5;124m\"\u001b[39m)\n",
      "\u001b[1;31mNameError\u001b[0m: name 'mse_list' is not defined"
     ]
    }
   ],
   "source": [
    "print(f\"Best MAPE: {best_mape}\")\n",
    "print(f\"Best configuration: Layers={best_config[0]}, Activations={best_config[1]}, Dropout={best_config[2]}, Epochs={best_config[3]}, Learning rate={best_config[4]}\")\n",
    "\n",
    "plt.plot(mse_list, label=\"MSE\")\n",
    "plt.plot(mape_list, label=\"MAPE\")\n",
    "plt.ylabel(\"validation MSE and MAPE\")\n",
    "plt.xlabel(\"epochs\")\n",
    "plt.legend()\n",
    "plt.show()"
   ]
  },
  {
   "cell_type": "code",
   "execution_count": null,
   "id": "8f2a4417-75b8-4db6-b006-22b3ff766512",
   "metadata": {},
   "outputs": [],
   "source": [
    "# Funkcja do trenowania modelu\n",
    "def train_model_v2(layers, activations, epochs, learning_rate):\n",
    "    model_layers = []\n",
    "    input_dim = 8\n",
    "\n",
    "    for layer_size, activation in zip(layers, activations):\n",
    "        model_layers.append(nn.Linear(input_dim, layer_size))\n",
    "        if activation == \"relu\":\n",
    "            model_layers.append(nn.ReLU())\n",
    "        elif activation == \"leakyrelu\":\n",
    "            model_layers.append(nn.LeakyReLU())\n",
    "        elif activation == \"tanh\":\n",
    "            model_layers.append(nn.Tanh())\n",
    "        input_dim = layer_size\n",
    "\n",
    "    model_layers.append(nn.Linear(input_dim, 1))\n",
    "    model = nn.Sequential(*model_layers)\n",
    "\n",
    "    loss_fn = nn.MSELoss()\n",
    "    optimizer = optim.AdamW(model.parameters(), lr=learning_rate)\n",
    "    mape = MeanAbsolutePercentageError()\n",
    "\n",
    "    loss_list = np.zeros((epochs,))\n",
    "    mse_list = np.zeros((epochs,))\n",
    "    mape_list = np.zeros((epochs,))\n",
    "\n",
    "    for epoch in tqdm.trange(epochs):\n",
    "        model.train()\n",
    "        y_pred = model(X_train)\n",
    "        loss = loss_fn(y_pred, y_train)\n",
    "        loss_list[epoch] = loss.item()\n",
    "        \n",
    "        optimizer.zero_grad()\n",
    "        loss.backward()\n",
    "        optimizer.step()\n",
    "        \n",
    "        model.eval()\n",
    "        with torch.no_grad():\n",
    "            y_pred = model(X_test)\n",
    "            mse_list[epoch] = loss_fn(y_pred, y_test).item()\n",
    "            mape_list[epoch] = mape(y_pred, y_test).item()\n",
    "\n",
    "    return min(mape_list), model"
   ]
  },
  {
   "cell_type": "code",
   "execution_count": null,
   "id": "b6b639af-2c73-4ff5-8442-79df1f0c3bab",
   "metadata": {},
   "outputs": [],
   "source": [
    "# Przeszukiwanie przestrzeni hiperparametrów\n",
    "best_mape = float('inf')\n",
    "best_config = None\n",
    "best_model = None\n",
    "\n",
    "for layers in layer_configs:\n",
    "    for activations in activation_configs:\n",
    "        for epochs in epoch_numbers:\n",
    "            for lr in learning_rates:\n",
    "                print(f\"Training with layers={layers}, activations={activations}, epochs={epochs}, lr={lr}\")\n",
    "                mape, model = train_model(layers, activations, epochs, lr)\n",
    "                print(f\"MAPE: {mape}\")\n",
    "                if mape < best_mape:\n",
    "                    best_mape = mape\n",
    "                    best_config = (layers, activations, epochs, lr)\n",
    "                    best_model = model\n",
    "\n",
    "print(f\"Best MAPE: {best_mape}\")\n",
    "print(f\"Best configuration: Layers={best_config[0]}, Activations={best_config[1]}, Epochs={best_config[2]}, Learning rate={best_config[3]}\")\n",
    "\n",
    "plt.plot(mse_list, label=\"MSE\")\n",
    "plt.plot(mape_list, label=\"MAPE\")\n",
    "plt.ylabel(\"validation MSE and MAPE\")\n",
    "plt.xlabel(\"epochs\")\n",
    "plt.legend()\n",
    "plt.show()"
   ]
  }
 ],
 "metadata": {
  "kernelspec": {
   "display_name": "Python 3 (ipykernel)",
   "language": "python",
   "name": "python3"
  },
  "language_info": {
   "codemirror_mode": {
    "name": "ipython",
    "version": 3
   },
   "file_extension": ".py",
   "mimetype": "text/x-python",
   "name": "python",
   "nbconvert_exporter": "python",
   "pygments_lexer": "ipython3",
   "version": "3.11.7"
  }
 },
 "nbformat": 4,
 "nbformat_minor": 5
}
